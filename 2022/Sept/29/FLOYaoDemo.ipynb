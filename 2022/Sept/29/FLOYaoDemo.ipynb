{
 "cells": [
  {
   "cell_type": "markdown",
   "id": "e1001fcf-7a28-4e53-9c03-c06d8047d528",
   "metadata": {},
   "source": [
    "# FLOYao demonstration"
   ]
  },
  {
   "cell_type": "code",
   "execution_count": 1,
   "id": "f6b5cd27-ef4b-4f7b-b889-e8632698ae84",
   "metadata": {},
   "outputs": [],
   "source": [
    "using Yao, FLOYao"
   ]
  },
  {
   "cell_type": "markdown",
   "id": "291a65aa-22bc-4a30-b71c-225bbf270392",
   "metadata": {},
   "source": [
    "## Simple example"
   ]
  },
  {
   "cell_type": "markdown",
   "id": "a0d66c23-2c86-4848-8edd-56a6cdb1cddc",
   "metadata": {},
   "source": [
    "Build a circuit consisting only of FLO gates:"
   ]
  },
  {
   "cell_type": "code",
   "execution_count": 2,
   "id": "067fb829-99ed-4d49-a34e-7c8c68d0086c",
   "metadata": {},
   "outputs": [
    {
     "data": {
      "text/plain": [
       "\u001b[36mnqubits: 4\u001b[39m\n",
       "\u001b[34m\u001b[1mchain\u001b[22m\u001b[39m\n",
       "├─ \u001b[36m\u001b[1mput on (\u001b[22m\u001b[39m\u001b[36m\u001b[1m3\u001b[22m\u001b[39m\u001b[36m\u001b[1m)\u001b[22m\u001b[39m\n",
       "│  └─ rot(Z, 0.7152825671383036)\n",
       "├─ rot(\u001b[36mnqubits: 4\u001b[39m\n",
       "\u001b[36m\u001b[1mkron\u001b[22m\u001b[39m\n",
       "├─ \u001b[37m\u001b[1m1\u001b[22m\u001b[39m=>X\n",
       "└─ \u001b[37m\u001b[1m2\u001b[22m\u001b[39m=>X, 0.19523245434585268)\n",
       "├─ rot(\u001b[36mnqubits: 4\u001b[39m\n",
       "\u001b[36m\u001b[1mkron\u001b[22m\u001b[39m\n",
       "├─ \u001b[37m\u001b[1m2\u001b[22m\u001b[39m=>X\n",
       "├─ \u001b[37m\u001b[1m3\u001b[22m\u001b[39m=>Z\n",
       "└─ \u001b[37m\u001b[1m4\u001b[22m\u001b[39m=>Y, 0.7679444408255987)\n",
       "├─ \u001b[36m\u001b[1mput on (\u001b[22m\u001b[39m\u001b[36m\u001b[1m3\u001b[22m\u001b[39m\u001b[36m\u001b[1m)\u001b[22m\u001b[39m\n",
       "│  └─ rot(Z, 0.7108748151789774)\n",
       "├─ \u001b[36m\u001b[1mput on (\u001b[22m\u001b[39m\u001b[36m\u001b[1m1\u001b[22m\u001b[39m\u001b[36m\u001b[1m)\u001b[22m\u001b[39m\n",
       "│  └─ Z\n",
       "└─ rot(\u001b[36mnqubits: 4\u001b[39m\n",
       "\u001b[36m\u001b[1mkron\u001b[22m\u001b[39m\n",
       "├─ \u001b[37m\u001b[1m2\u001b[22m\u001b[39m=>Y\n",
       "└─ \u001b[37m\u001b[1m3\u001b[22m\u001b[39m=>X, 0.6134951589259613)"
      ]
     },
     "execution_count": 2,
     "metadata": {},
     "output_type": "execute_result"
    }
   ],
   "source": [
    "nq = 4\n",
    "circuit = chain(nq)\n",
    "\n",
    "push!(circuit, put(nq, 3=>Rz(0.5)))\n",
    "\n",
    "xxg1 = kron(nq, 1 => X, 2 => X)\n",
    "rg = rot(xxg1, 0.)\n",
    "push!(circuit, rg)  \n",
    "\n",
    "xyg2 = kron(nq, 2 => X, 3 => Z, 4 => Y)\n",
    "rg = rot(xyg2, 0.)\n",
    "push!(circuit, rg)  \n",
    "push!(circuit, put(nq, 3=>Rz(0.5)))\n",
    "push!(circuit, put(nq, 1=>Z))\n",
    "\n",
    "# push!(circuit, put(nq, 2 => Ry(9.)))\n",
    "\n",
    "yxg3 = kron(nq, 2 => Y, 3 => X)\n",
    "rg = rot(yxg3, 0.)\n",
    "push!(circuit, rg)\n",
    "\n",
    "dispatch!(circuit, :random)\n",
    "circuit"
   ]
  },
  {
   "cell_type": "markdown",
   "id": "04625a9e-034e-4d79-a6bd-e639612f3e49",
   "metadata": {},
   "source": [
    "and an observable that is bilinear in the Majorana operators:"
   ]
  },
  {
   "cell_type": "code",
   "execution_count": 3,
   "id": "e8ddd79c-899b-4d96-b564-b27970c47b15",
   "metadata": {},
   "outputs": [
    {
     "data": {
      "text/plain": [
       "\u001b[36mnqubits: 4\u001b[39m\n",
       "\u001b[31m\u001b[1m+\u001b[22m\u001b[39m\n",
       "├─ \u001b[36m\u001b[1mkron\u001b[22m\u001b[39m\n",
       "│  ├─ \u001b[37m\u001b[1m1\u001b[22m\u001b[39m=>X\n",
       "│  └─ \u001b[37m\u001b[1m2\u001b[22m\u001b[39m=>X\n",
       "├─ \u001b[33m\u001b[1m[scale: 3] \u001b[22m\u001b[39m\u001b[36m\u001b[1mkron\u001b[22m\u001b[39m\n",
       "│     ├─ \u001b[37m\u001b[1m2\u001b[22m\u001b[39m=>X\n",
       "│     ├─ \u001b[37m\u001b[1m3\u001b[22m\u001b[39m=>Z\n",
       "│     └─ \u001b[37m\u001b[1m4\u001b[22m\u001b[39m=>Y\n",
       "├─ \u001b[33m\u001b[1m[scale: 0.5] \u001b[22m\u001b[39m\u001b[36m\u001b[1mkron\u001b[22m\u001b[39m\n",
       "│     ├─ \u001b[37m\u001b[1m2\u001b[22m\u001b[39m=>Y\n",
       "│     └─ \u001b[37m\u001b[1m3\u001b[22m\u001b[39m=>X\n",
       "├─ \u001b[36m\u001b[1mkron\u001b[22m\u001b[39m\n",
       "│  └─ \u001b[37m\u001b[1m2\u001b[22m\u001b[39m=>Z\n",
       "└─ \u001b[33m\u001b[1m[scale: π] \u001b[22m\u001b[39m\u001b[36m\u001b[1mkron\u001b[22m\u001b[39m\n",
       "      └─ \u001b[37m\u001b[1m3\u001b[22m\u001b[39m=>Z\n"
      ]
     },
     "execution_count": 3,
     "metadata": {},
     "output_type": "execute_result"
    }
   ],
   "source": [
    "hamiltonian = xxg1 + 3*xyg2 + 0.5*yxg3 + kron(nq, 2=>Z) + π * kron(nq, 3=>Z)"
   ]
  },
  {
   "cell_type": "markdown",
   "id": "84660ff8-83d2-4f78-a701-8c807c571e66",
   "metadata": {},
   "source": [
    "Now, pipe the zero state through the circuit and measure the expectation value of `hamiltonian`.\n",
    "First in ordinary Yao"
   ]
  },
  {
   "cell_type": "code",
   "execution_count": 4,
   "id": "8800b61a-1921-48f3-aa1a-d8c8875883b3",
   "metadata": {},
   "outputs": [
    {
     "data": {
      "text/plain": [
       "3.1456824178915626 + 0.0im"
      ]
     },
     "execution_count": 4,
     "metadata": {},
     "output_type": "execute_result"
    }
   ],
   "source": [
    "array_reg = zero_state(nq)\n",
    "apply!(array_reg, circuit)\n",
    "expect(hamiltonian, array_reg)"
   ]
  },
  {
   "cell_type": "markdown",
   "id": "b7883e9e-259c-4165-bf2e-60d0cec5d679",
   "metadata": {},
   "source": [
    "and with FLOYao:"
   ]
  },
  {
   "cell_type": "code",
   "execution_count": 5,
   "id": "3af3e4eb-124c-4aab-996a-214c981a871e",
   "metadata": {},
   "outputs": [
    {
     "data": {
      "text/plain": [
       "3.145682417891561"
      ]
     },
     "execution_count": 5,
     "metadata": {},
     "output_type": "execute_result"
    }
   ],
   "source": [
    "majorana_reg = FLOYao.zero_state(nq)\n",
    "apply!(majorana_reg, circuit)\n",
    "expect(hamiltonian, majorana_reg)"
   ]
  },
  {
   "cell_type": "markdown",
   "id": "f872b69b-14c2-4087-a7c1-18724b206aef",
   "metadata": {},
   "source": [
    "even gradients are supported:"
   ]
  },
  {
   "cell_type": "code",
   "execution_count": 6,
   "id": "c27209c2-8f62-4ce1-bee3-84fdfda42253",
   "metadata": {},
   "outputs": [
    {
     "data": {
      "text/plain": [
       "ArrayReg{2, ComplexF64, Array...}\n",
       "    active qubits: 4/4\n",
       "    nlevel: 2 => [1.053539129004653, -0.34692503573790257, -0.6268976918132858, 1.0535391290046536, -1.7972361547597475]"
      ]
     },
     "execution_count": 6,
     "metadata": {},
     "output_type": "execute_result"
    }
   ],
   "source": [
    "expect'(hamiltonian, array_reg => circuit)"
   ]
  },
  {
   "cell_type": "code",
   "execution_count": 7,
   "id": "9ed2aa3d-79a4-4b0d-a674-75391a479829",
   "metadata": {},
   "outputs": [
    {
     "data": {
      "text/plain": [
       "MajoranaReg{Float64}(4) => [1.0535391290046525, -0.3469250357379024, -0.6268976918132855, 1.0535391290046525, -1.797236154759746]"
      ]
     },
     "execution_count": 7,
     "metadata": {},
     "output_type": "execute_result"
    }
   ],
   "source": [
    "expect'(hamiltonian, majorana_reg => circuit)"
   ]
  },
  {
   "cell_type": "markdown",
   "id": "024332ff-8fff-4d19-ae75-9d899be3a3f6",
   "metadata": {},
   "source": [
    "as well as sampling:"
   ]
  },
  {
   "cell_type": "code",
   "execution_count": 8,
   "id": "e4e244da-7481-405a-b5af-24c7b5e78a40",
   "metadata": {},
   "outputs": [
    {
     "data": {
      "text/plain": [
       "10-element Vector{DitStr{2, 4, Int64}}:\n",
       " 0000 ₍₂₎\n",
       " 0000 ₍₂₎\n",
       " 0000 ₍₂₎\n",
       " 1010 ₍₂₎\n",
       " 0000 ₍₂₎\n",
       " 0110 ₍₂₎\n",
       " 0000 ₍₂₎\n",
       " 0000 ₍₂₎\n",
       " 0110 ₍₂₎\n",
       " 0000 ₍₂₎"
      ]
     },
     "execution_count": 8,
     "metadata": {},
     "output_type": "execute_result"
    }
   ],
   "source": [
    "measure(array_reg, nshots=10)"
   ]
  },
  {
   "cell_type": "code",
   "execution_count": 9,
   "id": "7c95dab4-7445-4891-a803-4aa969443cbe",
   "metadata": {},
   "outputs": [
    {
     "data": {
      "text/plain": [
       "10-element Vector{DitStr{2, 4, BigInt}}:\n",
       " 0000 ₍₂₎\n",
       " 0000 ₍₂₎\n",
       " 0000 ₍₂₎\n",
       " 1010 ₍₂₎\n",
       " 0000 ₍₂₎\n",
       " 0000 ₍₂₎\n",
       " 0000 ₍₂₎\n",
       " 0000 ₍₂₎\n",
       " 0000 ₍₂₎\n",
       " 0000 ₍₂₎"
      ]
     },
     "execution_count": 9,
     "metadata": {},
     "output_type": "execute_result"
    }
   ],
   "source": [
    "measure(majorana_reg, nshots=10)"
   ]
  },
  {
   "cell_type": "markdown",
   "id": "80cc1a4b-abda-4cb6-91fe-7f4c010e81de",
   "metadata": {},
   "source": [
    "## VQE for the TFIM"
   ]
  },
  {
   "cell_type": "markdown",
   "id": "1a16e091-acbd-47e7-9748-d282d5025605",
   "metadata": {},
   "source": [
    "The Hamiltonian is given as \n",
    "$$\n",
    "    H = J ∑_i^{L-1} X_i X_{i+1} + h ∑_i^L Z_i = U + T.\n",
    "$$\n",
    "and as Ansatz circuits we use the Hamiltonian Variational Ansatz\n",
    "$$\n",
    "    U(\\vec θ) = ∏_i^p e^{-iθ_{i,U} U} e^{-iθ_{i,T} T} \n",
    "$$\n",
    "with the initial state being the groundstate of the TFIM at $J = 0$, so $|ψ_i⟩ = |0 ⋯ 0⟩$.\n",
    "\n",
    "First, we define the Hamiltonian"
   ]
  },
  {
   "cell_type": "code",
   "execution_count": 10,
   "id": "aea3f2bc-43e0-4ecd-9ede-fa045165a53e",
   "metadata": {},
   "outputs": [
    {
     "data": {
      "text/plain": [
       "\"Add{2}\""
      ]
     },
     "execution_count": 10,
     "metadata": {},
     "output_type": "execute_result"
    }
   ],
   "source": [
    "L = 100 # this is far beyond what is possible with a full wavefunction simulation\n",
    "J = 1.5 \n",
    "h = -0.5\n",
    "p = 10  # number of VQE layers\n",
    "U = map(1:L-1) do i\n",
    "    J * kron(L, i => X, i+1 => X)\n",
    "end |> sum\n",
    "\n",
    "T = map(1:L) do i\n",
    "    h * kron(L, i => Z)\n",
    "end |> sum\n",
    "\n",
    "hamiltonian = T + U\n",
    "# not really needed, but here to circumvent some doctest  restrictions\n",
    "summary(hamiltonian)"
   ]
  },
  {
   "cell_type": "markdown",
   "id": "e8188a91-34d9-4c50-9814-51acfe8674a0",
   "metadata": {},
   "source": [
    "and the ansatz circuit"
   ]
  },
  {
   "cell_type": "code",
   "execution_count": 11,
   "id": "55361164-d84d-4518-a2eb-e252d2cc919c",
   "metadata": {},
   "outputs": [
    {
     "data": {
      "text/plain": [
       "1990"
      ]
     },
     "execution_count": 11,
     "metadata": {},
     "output_type": "execute_result"
    }
   ],
   "source": [
    "circuit = chain(L)\n",
    "for _ in 1:p\n",
    "    for i in 1:L-1\n",
    "        push!(circuit, rot(kron(L, i => X, i+1 => X), 0.))\n",
    "    end\n",
    "    for i in 1:L\n",
    "        push!(circuit, put(L, i => Rz(0.)))\n",
    "    end\n",
    "end\n",
    "length(circuit)"
   ]
  },
  {
   "cell_type": "markdown",
   "id": "5c786111-19b2-42d1-bf0a-cc285a20389e",
   "metadata": {},
   "source": [
    "as well as the initial state"
   ]
  },
  {
   "cell_type": "code",
   "execution_count": 12,
   "id": "9f69de05-ee52-4cac-8f49-1343ff2ae360",
   "metadata": {},
   "outputs": [
    {
     "data": {
      "text/plain": [
       "\"MajoranaReg{Float64}\""
      ]
     },
     "execution_count": 12,
     "metadata": {},
     "output_type": "execute_result"
    }
   ],
   "source": [
    "reg = FLOYao.zero_state(L)\n",
    "summary(reg)"
   ]
  },
  {
   "cell_type": "markdown",
   "id": "7bfcf669-090b-465d-a3d5-17e8e0d9b3c3",
   "metadata": {},
   "source": [
    "Now that we defined the hamiltonian, the ansatz circuit and the initial state\n",
    "we can perform simple gradient descent on the energy expectation value to find\n",
    "an approximation to the groundstate of $H$:"
   ]
  },
  {
   "cell_type": "code",
   "execution_count": 13,
   "id": "61bdc76c-80c6-49c1-82cd-d7bc92bee0b9",
   "metadata": {},
   "outputs": [
    {
     "name": "stdout",
     "output_type": "stream",
     "text": [
      "Iteration 1, energy = -1.6665\n",
      "Iteration 2, energy = -22.8073\n",
      "Iteration 3, energy = -41.2395\n",
      "Iteration 4, energy = -57.0927\n",
      "Iteration 5, energy = -70.7361\n",
      "Iteration 6, energy = -82.1889\n",
      "Iteration 7, energy = -91.4075\n",
      "Iteration 8, energy = -98.5386\n",
      "Iteration 9, energy = -103.9672\n",
      "Iteration 10, energy = -108.1376\n",
      "Iteration 11, energy = -111.3868\n",
      "Iteration 12, energy = -113.939\n",
      "Iteration 13, energy = -115.9615\n",
      "Iteration 14, energy = -117.5918\n",
      "Iteration 15, energy = -118.9364\n",
      "Iteration 16, energy = -120.0712\n",
      "Iteration 17, energy = -121.0481\n",
      "Iteration 18, energy = -121.9023\n",
      "Iteration 19, energy = -122.6591\n",
      "Iteration 20, energy = -123.3366\n",
      "Iteration 21, energy = -123.9486\n",
      "Iteration 22, energy = -124.5059\n",
      "Iteration 23, energy = -125.0164\n",
      "Iteration 24, energy = -125.4865\n",
      "Iteration 25, energy = -125.9213\n",
      "Iteration 26, energy = -126.3247\n",
      "Iteration 27, energy = -126.7001\n",
      "Iteration 28, energy = -127.0502\n",
      "Iteration 29, energy = -127.3776\n",
      "Iteration 30, energy = -127.6844\n",
      "Iteration 31, energy = -127.9724\n",
      "Iteration 32, energy = -128.2434\n",
      "Iteration 33, energy = -128.4989\n",
      "Iteration 34, energy = -128.7402\n",
      "Iteration 35, energy = -128.9685\n",
      "Iteration 36, energy = -129.1848\n",
      "Iteration 37, energy = -129.3899\n",
      "Iteration 38, energy = -129.5848\n",
      "Iteration 39, energy = -129.7701\n",
      "Iteration 40, energy = -129.9465\n",
      "Iteration 41, energy = -130.1145\n",
      "Iteration 42, energy = -130.2748\n",
      "Iteration 43, energy = -130.4277\n",
      "Iteration 44, energy = -130.5738\n",
      "Iteration 45, energy = -130.7135\n",
      "Iteration 46, energy = -130.8471\n",
      "Iteration 47, energy = -130.975\n",
      "Iteration 48, energy = -131.0975\n",
      "Iteration 49, energy = -131.215\n",
      "Iteration 50, energy = -131.3276\n",
      "Iteration 51, energy = -131.4357\n",
      "Iteration 52, energy = -131.5394\n",
      "Iteration 53, energy = -131.6391\n",
      "Iteration 54, energy = -131.7348\n",
      "Iteration 55, energy = -131.8269\n",
      "Iteration 56, energy = -131.9154\n",
      "Iteration 57, energy = -132.0006\n",
      "Iteration 58, energy = -132.0827\n",
      "Iteration 59, energy = -132.1618\n",
      "Iteration 60, energy = -132.2382\n",
      "Iteration 61, energy = -132.3118\n",
      "Iteration 62, energy = -132.383\n",
      "Iteration 63, energy = -132.4518\n",
      "Iteration 64, energy = -132.5185\n",
      "Iteration 65, energy = -132.5831\n",
      "Iteration 66, energy = -132.6458\n",
      "Iteration 67, energy = -132.7067\n",
      "Iteration 68, energy = -132.766\n",
      "Iteration 69, energy = -132.8238\n",
      "Iteration 70, energy = -132.8801\n",
      "Iteration 71, energy = -132.9352\n",
      "Iteration 72, energy = -132.9891\n",
      "Iteration 73, energy = -133.042\n",
      "Iteration 74, energy = -133.0939\n",
      "Iteration 75, energy = -133.145\n",
      "Iteration 76, energy = -133.1953\n",
      "Iteration 77, energy = -133.2449\n",
      "Iteration 78, energy = -133.2939\n",
      "Iteration 79, energy = -133.3423\n",
      "Iteration 80, energy = -133.3903\n",
      "Iteration 81, energy = -133.4379\n",
      "Iteration 82, energy = -133.4851\n",
      "Iteration 83, energy = -133.532\n",
      "Iteration 84, energy = -133.5787\n",
      "Iteration 85, energy = -133.625\n",
      "Iteration 86, energy = -133.6711\n",
      "Iteration 87, energy = -133.717\n",
      "Iteration 88, energy = -133.7626\n",
      "Iteration 89, energy = -133.8081\n",
      "Iteration 90, energy = -133.8533\n",
      "Iteration 91, energy = -133.8983\n",
      "Iteration 92, energy = -133.9431\n",
      "Iteration 93, energy = -133.9877\n",
      "Iteration 94, energy = -134.032\n",
      "Iteration 95, energy = -134.0761\n",
      "Iteration 96, energy = -134.1199\n",
      "Iteration 97, energy = -134.1635\n",
      "Iteration 98, energy = -134.2068\n",
      "Iteration 99, energy = -134.2499\n",
      "Iteration 100, energy = -134.2927\n"
     ]
    }
   ],
   "source": [
    "iterations = 100\n",
    "gamma = 5e-2\n",
    "\n",
    "# set the initial parameters\n",
    "nparams = nparameters(circuit)\n",
    "dispatch!(circuit, :random) # fix initial parameters for reproducibility\n",
    "\n",
    "for i in 1:iterations\n",
    "    _, grad = expect'(hamiltonian, reg => circuit)\n",
    "    dispatch!(-, circuit, gamma * grad)\n",
    "    println(\"Iteration $i, energy = $(round(expect(hamiltonian, reg => circuit), digits=4))\")\n",
    "end"
   ]
  },
  {
   "cell_type": "markdown",
   "id": "40ed42d2-a961-4df4-b226-ef9bebad8184",
   "metadata": {},
   "source": [
    "and for good measure, let's have a look at the samples:"
   ]
  },
  {
   "cell_type": "code",
   "execution_count": 14,
   "id": "86ae45da-173d-4818-b9dd-f070bf91dabf",
   "metadata": {},
   "outputs": [
    {
     "data": {
      "text/plain": [
       "10-element Vector{DitStr{2, 100, BigInt}}:\n",
       " 1111111111111111111111111111111111111001101000000000001111101011001011000110000100000011000010000010 ₍₂₎\n",
       " 0000000000000000000000000000000000000100000111100010000001000000110111100001111100001100000101010100 ₍₂₎\n",
       " 0000000000000000000000000000000000000000100001110011101100100000011011001101011001001101000111000100 ₍₂₎\n",
       " 1111111111111111111111111111111111111111011100010010000000100000001010110000010001101100110010000100 ₍₂₎\n",
       " 0000000000000000000000000000000000000100100001101111001000011000001010000000001001010111100000011000 ₍₂₎\n",
       " 1111111111111111111111111111111111111100100001010010111000100000000010100101001011101111111000010001 ₍₂₎\n",
       " 1111111111111111111111111111111111111000101000000110010011100100011101001100010110110000001010100001 ₍₂₎\n",
       " 0000000000000000000000000000000000000001010100000111100011000101010101000011111000110000001000000100 ₍₂₎\n",
       " 0000000000000000000000000000000000000111011000011001100010101000110000000011111000110011000011100010 ₍₂₎\n",
       " 0000000000000000000000000000000000000100100000000011000110101010010101100000100011101110100001111001 ₍₂₎"
      ]
     },
     "execution_count": 14,
     "metadata": {},
     "output_type": "execute_result"
    }
   ],
   "source": [
    "samples = measure(reg |> circuit, nshots=10)"
   ]
  },
  {
   "cell_type": "markdown",
   "id": "4e55dc41-d325-46db-9566-28f6f6531240",
   "metadata": {},
   "source": [
    "## Support for custom gates"
   ]
  },
  {
   "cell_type": "markdown",
   "id": "7c1cc48a-0573-4a83-ba1b-1fa10a29e49a",
   "metadata": {},
   "source": [
    "Natively, the only FLO gates that come already shipped with `FLOYao.jl` are these\n",
    "[Supported gates](@ref). But there are many more FLO gates,\n",
    "one being for example the `FSWAP` gate which swaps to qubits while making sure\n",
    "to preserve the fermionic commutation relations"
   ]
  },
  {
   "cell_type": "code",
   "execution_count": 15,
   "id": "b38624cd-9cd6-44ff-a0cb-1bc453c13b5b",
   "metadata": {},
   "outputs": [
    {
     "data": {
      "text/plain": [
       "4×4 Matrix{ComplexF64}:\n",
       " 1.0+0.0im  0.0+0.0im  0.0+0.0im   0.0+0.0im\n",
       " 0.0+0.0im  0.0+0.0im  1.0+0.0im   0.0+0.0im\n",
       " 0.0+0.0im  1.0+0.0im  0.0+0.0im   0.0+0.0im\n",
       " 0.0+0.0im  0.0+0.0im  0.0+0.0im  -1.0+0.0im"
      ]
     },
     "execution_count": 15,
     "metadata": {},
     "output_type": "execute_result"
    }
   ],
   "source": [
    "@const_gate FSWAP = [1 0 0 0; 0 0 1 0; 0 1 0 0; 0 0 0 -1]\n",
    "mat(FSWAP)"
   ]
  },
  {
   "cell_type": "markdown",
   "id": "2c4342a8-b5ad-4c73-adae-695cbf04beaa",
   "metadata": {},
   "source": [
    "If a gate defines a matrix representation, as we just did for the `FSWAP`gate,\n",
    "`FLOYao` supports them out of the box by manually checking if they are a FLO\n",
    "gate and then computing its matrix representation in the Majorana basis. But\n",
    "this method is fairly slow---though still poly-time and memory---compared to\n",
    "directly implementing `unsafe_apply!(::MajoranaReg, ::YourBlock)` and\n",
    "`instruct!(::MajoranaReg, ::YourBlock)` and will warn you accordingly:"
   ]
  },
  {
   "cell_type": "code",
   "execution_count": 16,
   "id": "6aa5d8b0-0d82-4b1f-b266-f5d195317685",
   "metadata": {},
   "outputs": [
    {
     "name": "stderr",
     "output_type": "stream",
     "text": [
      "┌ Warning: Calling manual instruct!(MajoranaReg{Float64}(4), ComplexF64[1.0 + 0.0im 0.0 + 0.0im 0.0 + 0.0im 0.0 + 0.0im; 0.0 + 0.0im 0.0 + 0.0im 1.0 + 0.0im 0.0 + 0.0im; 0.0 + 0.0im 1.0 + 0.0im 0.0 + 0.0im 0.0 + 0.0im; 0.0 + 0.0im 0.0 + 0.0im 0.0 + 0.0im -1.0 + 0.0im], (1, 2)).\n",
      "│ You can greatly speed up your FLO gates by exactly implementing unsafe_apply!()\n",
      "│ and instruct!() for them. See FLOYao/src/instruct.jl and  FLOYao/src/apply_composite.jl\n",
      "│ for how to do that.\n",
      "└ @ FLOYao /home/yc20910/PhD/Work/code/FLOYao/src/instruct.jl:73\n"
     ]
    },
    {
     "data": {
      "text/plain": [
       "MajoranaReg{Float64} with 4 qubits:\n",
       "8×8 Matrix{Float64}:\n",
       " -2.35415e-16  -4.12493e-16  -1.0          …   0.0   0.0   0.0   0.0\n",
       "  2.46746e-16  -5.5708e-16   -1.26504e-16      0.0   0.0   0.0   0.0\n",
       " -1.0          -1.17708e-16   2.55988e-16      0.0   0.0   0.0   0.0\n",
       " -1.85286e-16  -1.0           2.44068e-16      0.0   0.0   0.0   0.0\n",
       " -0.0          -0.0          -0.0             -1.0  -0.0  -0.0  -0.0\n",
       " -0.0          -0.0          -0.0          …  -0.0  -1.0  -0.0  -0.0\n",
       " -0.0          -0.0          -0.0             -0.0  -0.0  -1.0  -0.0\n",
       " -0.0          -0.0          -0.0             -0.0  -0.0  -0.0  -1.0"
      ]
     },
     "execution_count": 16,
     "metadata": {},
     "output_type": "execute_result"
    }
   ],
   "source": [
    "nq = 4\n",
    "fswap = put(nq, (1, 2) => FSWAP)\n",
    "mreg = FLOYao.zero_state(nq)\n",
    "mreg |> put(nq, 2 => X)\n",
    "mreg |> fswap"
   ]
  },
  {
   "cell_type": "markdown",
   "id": "81606ed0-dd74-45a6-8763-90eda5333cdd",
   "metadata": {},
   "source": [
    "Now, before we fix these warnings, let's see how long the current implementation takes:"
   ]
  },
  {
   "cell_type": "code",
   "execution_count": 17,
   "id": "d6002383-0ae3-43ba-a337-bbef1000f706",
   "metadata": {},
   "outputs": [
    {
     "data": {
      "text/plain": [
       "BenchmarkTools.Trial: 6228 samples with 1 evaluation.\n",
       " Range \u001b[90m(\u001b[39m\u001b[36m\u001b[1mmin\u001b[22m\u001b[39m … \u001b[35mmax\u001b[39m\u001b[90m):  \u001b[39m\u001b[36m\u001b[1m708.072 μs\u001b[22m\u001b[39m … \u001b[35m  4.084 ms\u001b[39m  \u001b[90m┊\u001b[39m GC \u001b[90m(\u001b[39mmin … max\u001b[90m): \u001b[39m0.00% … 71.75%\n",
       " Time  \u001b[90m(\u001b[39m\u001b[34m\u001b[1mmedian\u001b[22m\u001b[39m\u001b[90m):     \u001b[39m\u001b[34m\u001b[1m750.930 μs               \u001b[22m\u001b[39m\u001b[90m┊\u001b[39m GC \u001b[90m(\u001b[39mmedian\u001b[90m):    \u001b[39m0.00%\n",
       " Time  \u001b[90m(\u001b[39m\u001b[32m\u001b[1mmean\u001b[22m\u001b[39m ± \u001b[32mσ\u001b[39m\u001b[90m):   \u001b[39m\u001b[32m\u001b[1m797.582 μs\u001b[22m\u001b[39m ± \u001b[32m237.622 μs\u001b[39m  \u001b[90m┊\u001b[39m GC \u001b[90m(\u001b[39mmean ± σ\u001b[90m):  \u001b[39m2.20% ±  6.15%\n",
       "\n",
       "  \u001b[39m▄\u001b[39m▆\u001b[39m▅\u001b[39m█\u001b[39m█\u001b[34m▇\u001b[39m\u001b[39m▆\u001b[39m▆\u001b[39m▅\u001b[39m▄\u001b[39m▄\u001b[32m▃\u001b[39m\u001b[39m▂\u001b[39m▁\u001b[39m▁\u001b[39m \u001b[39m \u001b[39m \u001b[39m \u001b[39m \u001b[39m \u001b[39m \u001b[39m \u001b[39m \u001b[39m \u001b[39m \u001b[39m \u001b[39m \u001b[39m \u001b[39m \u001b[39m \u001b[39m \u001b[39m \u001b[39m \u001b[39m \u001b[39m \u001b[39m \u001b[39m \u001b[39m \u001b[39m \u001b[39m \u001b[39m \u001b[39m \u001b[39m \u001b[39m \u001b[39m \u001b[39m \u001b[39m \u001b[39m \u001b[39m \u001b[39m \u001b[39m \u001b[39m \u001b[39m \u001b[39m \u001b[39m \u001b[39m \u001b[39m \u001b[39m \u001b[39m \u001b[39m \u001b[39m \u001b[39m▂\n",
       "  \u001b[39m█\u001b[39m█\u001b[39m█\u001b[39m█\u001b[39m█\u001b[34m█\u001b[39m\u001b[39m█\u001b[39m█\u001b[39m█\u001b[39m█\u001b[39m█\u001b[32m█\u001b[39m\u001b[39m█\u001b[39m█\u001b[39m█\u001b[39m█\u001b[39m█\u001b[39m█\u001b[39m▇\u001b[39m▇\u001b[39m▇\u001b[39m▇\u001b[39m▆\u001b[39m▇\u001b[39m▇\u001b[39m▇\u001b[39m▆\u001b[39m▆\u001b[39m▇\u001b[39m▆\u001b[39m▆\u001b[39m▆\u001b[39m▆\u001b[39m▇\u001b[39m▇\u001b[39m▇\u001b[39m█\u001b[39m▇\u001b[39m█\u001b[39m█\u001b[39m▇\u001b[39m█\u001b[39m▆\u001b[39m▇\u001b[39m█\u001b[39m▇\u001b[39m▇\u001b[39m▇\u001b[39m▆\u001b[39m▆\u001b[39m▅\u001b[39m▅\u001b[39m▆\u001b[39m▅\u001b[39m▆\u001b[39m▆\u001b[39m▆\u001b[39m▅\u001b[39m▄\u001b[39m▄\u001b[39m▄\u001b[39m \u001b[39m█\n",
       "  708 μs\u001b[90m        \u001b[39m\u001b[90mHistogram: \u001b[39m\u001b[90m\u001b[1mlog(\u001b[22m\u001b[39m\u001b[90mfrequency\u001b[39m\u001b[90m\u001b[1m)\u001b[22m\u001b[39m\u001b[90m by time\u001b[39m       1.22 ms \u001b[0m\u001b[1m<\u001b[22m\n",
       "\n",
       " Memory estimate\u001b[90m: \u001b[39m\u001b[33m338.86 KiB\u001b[39m, allocs estimate\u001b[90m: \u001b[39m\u001b[33m496\u001b[39m."
      ]
     },
     "execution_count": 17,
     "metadata": {},
     "output_type": "execute_result"
    }
   ],
   "source": [
    "using BenchmarkTools\n",
    "using Suppressor # we don't want to get all the warnings when benchmarking\n",
    "@benchmark @suppress apply!($mreg, $fswap)"
   ]
  },
  {
   "cell_type": "markdown",
   "id": "4a41a724-5de6-4d2b-8b0a-3aaf3cfc907a",
   "metadata": {},
   "source": [
    "To find out what the matrix representation of the `FSWAP` gate in the Majorana\n",
    "basis is, it is easiest to retrace what is happening inside\n",
    "`instruct!(::MajoranaReg, ::AbstractMatrix, locs)`. You can use"
   ]
  },
  {
   "cell_type": "code",
   "execution_count": 18,
   "id": "7f87fd88-ffb5-4f2b-be7f-9f5f5b2cc331",
   "metadata": {},
   "outputs": [
    {
     "data": {
      "text/html": [
       "instruct!(reg::<b>MajoranaReg</b>, gate::<b>AbstractMatrix</b>, locs) in FLOYao at <a href=\"https://github.com/QuantumBFS/FLOYao.jl/tree/ea3e81309df58736920062632b13be1d8adea90e//src/instruct.jl#L66\" target=\"_blank\">/home/yc20910/PhD/Work/code/FLOYao/src/instruct.jl:66</a>"
      ],
      "text/plain": [
       "instruct!(reg::MajoranaReg, gate::AbstractMatrix, locs) in FLOYao at /home/yc20910/PhD/Work/code/FLOYao/src/instruct.jl:66"
      ]
     },
     "execution_count": 18,
     "metadata": {},
     "output_type": "execute_result"
    }
   ],
   "source": [
    "@which instruct!(mreg, mat(FSWAP), (1,2))"
   ]
  },
  {
   "cell_type": "markdown",
   "id": "0f48da4e-1b09-4e53-9f90-a811b57282e3",
   "metadata": {},
   "source": [
    "to find the location of the corresponding code. Now let's copy-paste what we found there:"
   ]
  },
  {
   "cell_type": "code",
   "execution_count": 19,
   "id": "e4044eb5-37ab-4b49-a849-8dc55faf654e",
   "metadata": {},
   "outputs": [
    {
     "data": {
      "text/plain": [
       "4×4 Matrix{Float64}:\n",
       " -2.35415e-16  -4.12493e-16  -1.0           0.0\n",
       "  2.46746e-16  -5.5708e-16   -1.26504e-16  -1.0\n",
       " -1.0          -1.17708e-16   2.55988e-16  -2.38988e-16\n",
       " -1.85286e-16  -1.0           2.44068e-16   2.43374e-16"
      ]
     },
     "execution_count": 19,
     "metadata": {},
     "output_type": "execute_result"
    }
   ],
   "source": [
    "W = FLOYao.qubit2majoranaevolution(Matrix(fswap.content), fswap.locs)"
   ]
  },
  {
   "cell_type": "code",
   "execution_count": 20,
   "id": "7e68f3ab-fd95-48bd-b37d-cd16eef621b0",
   "metadata": {},
   "outputs": [
    {
     "data": {
      "text/plain": [
       "1:4"
      ]
     },
     "execution_count": 20,
     "metadata": {},
     "output_type": "execute_result"
    }
   ],
   "source": [
    "matlocs = 2*(fswap.locs[1]-1)+1:2(fswap.locs[end])"
   ]
  },
  {
   "cell_type": "markdown",
   "id": "a191a7f1-0a3d-4795-b748-f69676b090b8",
   "metadata": {},
   "source": [
    "this matrix gets left-multiplied to the columns `1:4` in the last line of\n",
    "`FLOYao.majorana_unsafe_apply!(::MajoranaReg, ::PutBlock)`. So we can instead\n",
    "implement the action of an `FSWAP` gate on a `MajoranaReg` directly as follows:"
   ]
  },
  {
   "cell_type": "code",
   "execution_count": 21,
   "id": "b6eadfd2-d73c-438b-a3cc-37002955fa92",
   "metadata": {},
   "outputs": [],
   "source": [
    "function YaoBlocks.unsafe_apply!(reg::MajoranaReg, b::PutBlock{2,2,FSWAPGate})\n",
    "    FLOYao.areconsecutive(b.locs) || throw(NonFLOException(\"FSWAP must act on consecutive qubits\"))\n",
    "    instruct!(reg, Val(:FSWAP), b.locs)\n",
    "end\n",
    "\n",
    "function Yao.instruct!(reg::MajoranaReg, ::Val{:FSWAP}, locs::Tuple)\n",
    "    i1, i2 = locs\n",
    "    row1, row2 = reg.state[2i1-1,:], reg.state[2i1,:]\n",
    "    row3, row4 = reg.state[2i2-1,:], reg.state[2i2,:]\n",
    "    reg.state[2i1-1,:] .=  .-row3\n",
    "    reg.state[2i1,:] .=  .-row4\n",
    "    reg.state[2i2-1,:] .=  .-row1\n",
    "    reg.state[2i2,:] .=  .-row2\n",
    "    return reg\n",
    "end"
   ]
  },
  {
   "cell_type": "code",
   "execution_count": 22,
   "id": "4a3954db-9850-49c9-9c44-fa673721770d",
   "metadata": {},
   "outputs": [
    {
     "data": {
      "text/plain": [
       "BenchmarkTools.Trial: 10000 samples with 685 evaluations.\n",
       " Range \u001b[90m(\u001b[39m\u001b[36m\u001b[1mmin\u001b[22m\u001b[39m … \u001b[35mmax\u001b[39m\u001b[90m):  \u001b[39m\u001b[36m\u001b[1m182.761 ns\u001b[22m\u001b[39m … \u001b[35m  3.817 μs\u001b[39m  \u001b[90m┊\u001b[39m GC \u001b[90m(\u001b[39mmin … max\u001b[90m): \u001b[39m0.00% … 94.40%\n",
       " Time  \u001b[90m(\u001b[39m\u001b[34m\u001b[1mmedian\u001b[22m\u001b[39m\u001b[90m):     \u001b[39m\u001b[34m\u001b[1m194.991 ns               \u001b[22m\u001b[39m\u001b[90m┊\u001b[39m GC \u001b[90m(\u001b[39mmedian\u001b[90m):    \u001b[39m0.00%\n",
       " Time  \u001b[90m(\u001b[39m\u001b[32m\u001b[1mmean\u001b[22m\u001b[39m ± \u001b[32mσ\u001b[39m\u001b[90m):   \u001b[39m\u001b[32m\u001b[1m227.040 ns\u001b[22m\u001b[39m ± \u001b[32m256.722 ns\u001b[39m  \u001b[90m┊\u001b[39m GC \u001b[90m(\u001b[39mmean ± σ\u001b[90m):  \u001b[39m9.72% ±  8.09%\n",
       "\n",
       "  \u001b[39m█\u001b[39m▇\u001b[39m▆\u001b[34m▇\u001b[39m\u001b[39m▅\u001b[39m▅\u001b[39m▄\u001b[39m▄\u001b[39m▄\u001b[39m▃\u001b[39m▃\u001b[39m▂\u001b[32m▁\u001b[39m\u001b[39m \u001b[39m \u001b[39m \u001b[39m \u001b[39m \u001b[39m \u001b[39m \u001b[39m \u001b[39m \u001b[39m \u001b[39m \u001b[39m \u001b[39m \u001b[39m \u001b[39m \u001b[39m \u001b[39m \u001b[39m \u001b[39m \u001b[39m \u001b[39m \u001b[39m \u001b[39m \u001b[39m \u001b[39m \u001b[39m \u001b[39m \u001b[39m \u001b[39m \u001b[39m \u001b[39m \u001b[39m \u001b[39m \u001b[39m \u001b[39m \u001b[39m \u001b[39m \u001b[39m \u001b[39m \u001b[39m▁\u001b[39m \u001b[39m \u001b[39m \u001b[39m \u001b[39m \u001b[39m \u001b[39m \u001b[39m \u001b[39m \u001b[39m▂\n",
       "  \u001b[39m█\u001b[39m█\u001b[39m█\u001b[34m█\u001b[39m\u001b[39m█\u001b[39m█\u001b[39m█\u001b[39m█\u001b[39m█\u001b[39m█\u001b[39m█\u001b[39m█\u001b[32m█\u001b[39m\u001b[39m█\u001b[39m█\u001b[39m█\u001b[39m▇\u001b[39m▆\u001b[39m▆\u001b[39m▅\u001b[39m▄\u001b[39m▅\u001b[39m▆\u001b[39m▄\u001b[39m▄\u001b[39m▄\u001b[39m▂\u001b[39m▃\u001b[39m▂\u001b[39m▅\u001b[39m▂\u001b[39m▂\u001b[39m▄\u001b[39m▄\u001b[39m▃\u001b[39m▄\u001b[39m▃\u001b[39m▄\u001b[39m▄\u001b[39m▇\u001b[39m█\u001b[39m▇\u001b[39m▇\u001b[39m▆\u001b[39m▇\u001b[39m▇\u001b[39m▆\u001b[39m▆\u001b[39m▇\u001b[39m▅\u001b[39m▅\u001b[39m▇\u001b[39m█\u001b[39m█\u001b[39m▆\u001b[39m▇\u001b[39m▆\u001b[39m▅\u001b[39m▆\u001b[39m▆\u001b[39m▄\u001b[39m \u001b[39m█\n",
       "  183 ns\u001b[90m        \u001b[39m\u001b[90mHistogram: \u001b[39m\u001b[90m\u001b[1mlog(\u001b[22m\u001b[39m\u001b[90mfrequency\u001b[39m\u001b[90m\u001b[1m)\u001b[22m\u001b[39m\u001b[90m by time\u001b[39m        411 ns \u001b[0m\u001b[1m<\u001b[22m\n",
       "\n",
       " Memory estimate\u001b[90m: \u001b[39m\u001b[33m512 bytes\u001b[39m, allocs estimate\u001b[90m: \u001b[39m\u001b[33m4\u001b[39m."
      ]
     },
     "execution_count": 22,
     "metadata": {},
     "output_type": "execute_result"
    }
   ],
   "source": [
    "@benchmark apply!($mreg, $fswap)"
   ]
  },
  {
   "cell_type": "markdown",
   "id": "0569c1b6-1dc9-4ef4-8355-fb1ad4d530b1",
   "metadata": {},
   "source": [
    "Which is indeed a significant speed-up!"
   ]
  }
 ],
 "metadata": {
  "kernelspec": {
   "display_name": "Julia 1.8.1",
   "language": "julia",
   "name": "julia-1.8"
  },
  "language_info": {
   "file_extension": ".jl",
   "mimetype": "application/julia",
   "name": "julia",
   "version": "1.8.1"
  }
 },
 "nbformat": 4,
 "nbformat_minor": 5
}
